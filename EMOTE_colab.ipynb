{
  "cells": [
    {
      "cell_type": "markdown",
      "metadata": {
        "id": "view-in-github"
      },
      "source": [
        "[![Open In Colab](https://colab.research.google.com/assets/colab-badge.svg)](https://colab.research.google.com/github/camenduru/EMOTE-colab/blob/main/EMOTE_colab.ipynb)"
      ]
    },
    {
      "cell_type": "code",
      "execution_count": null,
      "metadata": {
        "id": "VjYy0F2gZIPR"
      },
      "outputs": [],
      "source": [
        "# %cd /content\n",
        "# !git clone https://github.com/TimoBolkart/BFM_to_FLAME\n",
        "# %cd /content/BFM_to_FLAME\n",
        "# !pip install chumpy\n",
        "# !wget https://huggingface.co/camenduru/BFM/resolve/main/model2017-1_bfm_nomouth.h5?download=true -O /content/BFM_to_FLAME/model/model2017-1_bfm_nomouth.h5\n",
        "# !wget https://huggingface.co/camenduru/BFM/resolve/main/mask_inpainting.npz?download=true -O /content/BFM_to_FLAME/model/mask_inpainting.npz\n",
        "# !python col_to_tex.py\n",
        "\n",
        "%cd /content\n",
        "!git clone https://github.com/radekd91/inferno\n",
        "\n",
        "%cd /content/inferno\n",
        "!bash pull_submodules.sh\n",
        "!pip install -e .\n",
        "\n",
        "%cd /content/inferno/inferno_apps/TalkingHead\n",
        "!sh download_assets.sh\n",
        "\n",
        "!apt -y install -qq aria2\n",
        "!aria2c --console-log-level=error -c -x 16 -s 16 -k 1M https://huggingface.co/camenduru/TalkingHead/resolve/main/FLAME_albedo_from_BFM.npz?download=true -d /content/inferno/assets/FLAME/texture -o FLAME_albedo_from_BFM.npz\n",
        "\n",
        "# import sys\n",
        "# sys.path.append('/content/inferno')\n"
      ]
    }
  ],
  "metadata": {
    "accelerator": "GPU",
    "colab": {
      "gpuType": "T4",
      "provenance": []
    },
    "kernelspec": {
      "display_name": "Python 3",
      "name": "python3"
    },
    "language_info": {
      "name": "python"
    }
  },
  "nbformat": 4,
  "nbformat_minor": 0
}
